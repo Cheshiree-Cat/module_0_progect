{
 "cells": [
  {
   "cell_type": "code",
   "execution_count": 27,
   "metadata": {},
   "outputs": [
    {
     "name": "stdout",
     "output_type": "stream",
     "text": [
      "Загадано число от 1 до 100\n",
      "Я его угадал! 40\n",
      "Вы угадали число 40 за 4 попыток.\n"
     ]
    }
   ],
   "source": [
    "import numpy as np\n",
    "number = np.random.randint(1,101)  # загадали число\n",
    "print (\"Загадано число от 1 до 100\")\n",
    "left = 1\n",
    "right = 100\n",
    "counter = 0 # счётчик\n",
    "while True: # использован метод бисекции, или же метод половинного деления\n",
    "    current = (left+right)//2\n",
    "    if number == current:\n",
    "        print('Я его угадал!', current)\n",
    "        break\n",
    "    elif number>current:\n",
    "        left = current + 1\n",
    "    else:\n",
    "        right = current - 1\n",
    "    counter+=1\n",
    "print (f\"Вы угадали число {number} за {counter} попыток.\")"
   ]
  }
 ],
 "metadata": {
  "kernelspec": {
   "display_name": "Python 3",
   "language": "python",
   "name": "python3"
  },
  "language_info": {
   "codemirror_mode": {
    "name": "ipython",
    "version": 3
   },
   "file_extension": ".py",
   "mimetype": "text/x-python",
   "name": "python",
   "nbconvert_exporter": "python",
   "pygments_lexer": "ipython3",
   "version": "3.7.6"
  }
 },
 "nbformat": 4,
 "nbformat_minor": 4
}
